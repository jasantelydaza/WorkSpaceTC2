{
 "cells": [
  {
   "cell_type": "markdown",
   "id": "a171f695",
   "metadata": {},
   "source": [
    "# Consigna\n",
    "## Diseñe el cuadripolo A para que se comporte como:\n",
    "\n",
    "Filtro pasa bajos Bessel de 3er. orden\n",
    "- No disipativo\n",
    "- Normalizado en frecuencia e impedancia\n",
    "- Respetando la siguiente topologia:\n",
    "\n",
    "![image](./Imagenes/Topologia.png)\n",
    "\n",
    "1. Obtenga la impedancia de entrada al cuadripolo A, cargado con un resistor de 1Ω a la salida.\n",
    "2. Sintetice A como un cuadripolo escalera.\n",
    "3. Simule el comportamiento de la red en LTspice graficando S21 y S11 en función de la frecuencia.\n",
    "4. Explique el comportamiento de A a partir de los valores de S11 en las siguientes frecuencias:\n",
    "    - Centro de la banda de paso\n",
    "    - Frecuencia de corte\n",
    "    - Transición y centro de la banda de detenida\n",
    "5. Modifique el circuito para que la frecuencia de corte sea 2 π 10⁶ rad/s y la resistencia del generador sea 50Ω."
   ]
  },
  {
   "cell_type": "markdown",
   "id": "6b1f03e5",
   "metadata": {},
   "source": [
    "## 1) Impedancia obtenida\n",
    "\n",
    "La impedancia obtenida fue la siguiente (Los cálculos se encuentran en el anexo):\n",
    "\n",
    "$$ \\dfrac{2s^3 + 10,406s^2 + 21,708s + 15}{1,594^s2 + 8,292s + 15} $$"
   ]
  },
  {
   "cell_type": "markdown",
   "id": "fc021f18",
   "metadata": {},
   "source": [
    "## 2)Sintesis:\n",
    "\n",
    "El circuito sintetizado se muestra en la simulación circuital (Los calculos están en el anexo)"
   ]
  },
  {
   "cell_type": "markdown",
   "id": "491107bc",
   "metadata": {},
   "source": [
    "## 3) Simulación circuital\n",
    "\n",
    "### Circuito:\n",
    "\n",
    "![image](./Imagenes/Circuito.png)\n",
    "\n",
    "### $ S_{11}$:\n",
    "\n",
    "#### Modulo y fase:\n",
    "![image](./Imagenes/S11.png)\n",
    "\n",
    "\n",
    "#### Retardo de grupo:\n",
    "![image](./Imagenes/S11_GroupDelay.png)\n",
    "\n",
    "### $ S_{21}$:\n",
    "\n",
    "#### Modulo y fase:\n",
    "![image](./Imagenes/S21.png)\n",
    "\n",
    "\n",
    "#### Retardo de grupo:\n",
    "![image](./Imagenes/S21_GroupDelay.png)"
   ]
  },
  {
   "cell_type": "markdown",
   "id": "25d08e5f",
   "metadata": {},
   "source": [
    "## Explicación del comportamiento\n",
    "\n",
    "Volvemos a la gráfica de S11:\n",
    "\n",
    "![image](./Imagenes/S11.png)\n",
    "\n",
    "- Cómo podemos ver en la banda de paso S11 tiene un valor de aproximadamente -50dB eso quiere decir que S11 es muy cercano a cero por lo cual podemos decir que está adaptado.\n",
    "\n",
    "- Para la frecuencia de corte (159mHz en el gráfico) tiene un valor aproximado de -7dB donde S11 es un valor más grande y no tan cercano a cero como antes por lo que podríamos decir que cumple una cierta adaptación.\n",
    "\n",
    "- En la banda detenida ya ocurre que S11 tiende a 0db por lo cual tenemos que S11 vale 1 significando que está completamente desadaptado."
   ]
  },
  {
   "cell_type": "markdown",
   "id": "6c08ad38",
   "metadata": {},
   "source": [
    "## 5) Desnormalizamos\n",
    "\n",
    "### Cálculamos el valor de los componentes:\n",
    "\n",
    "Tenemos que la $\\omega_c=2 \\pi 10^6$ y la resistencia del generador es $R=50\\Omega$\n",
    "\n",
    "Donde nos da que:\n",
    " - $ L1 = 1.254705\\dfrac{50\\Omega}{\\omega_c=2 \\pi 10^6} = 9,9984625144\\mu H $  \n",
    "\n",
    " - $ C1 = 0,553587\\dfrac{1\\Omega}{\\omega_c=2 \\pi 10^6*50} = 1,76212215nF $  \n",
    " \n",
    " - $ L2 = 0,19196\\dfrac{50\\Omega}{\\omega_c=2 \\pi 10^6} = 1,527569144\\mu H $ \n",
    " \n",
    "### Circuito\n",
    "\n",
    "\n",
    "![image](./Imagenes/Circuito_Desnormalizado.png)\n",
    "\n",
    "### $ S_{11}$:\n",
    "\n",
    "#### Modulo y fase:\n",
    "![image](./Imagenes/S11_Desnormalizado.png)\n",
    "\n",
    "\n",
    "#### Retardo de grupo:\n",
    "![image](./Imagenes/S11_Desnormalizado_GroupDelay.png)\n",
    "\n",
    "### $ S_{21}$:\n",
    "\n",
    "#### Modulo y fase:\n",
    "![image](./Imagenes/S21_Desnormalizado.png)\n",
    "\n",
    "Podemos ver que cumple con la frecuencia\n",
    "\n",
    "\n",
    "#### Retardo de grupo:\n",
    "![image](./Imagenes/S21_Desnormalizado_GroupDelay.png)"
   ]
  },
  {
   "cell_type": "markdown",
   "id": "92c6b083",
   "metadata": {},
   "source": [
    "## Anexo\n",
    "\n"
   ]
  },
  {
   "cell_type": "code",
   "execution_count": 3,
   "id": "afe0e34e",
   "metadata": {},
   "outputs": [
    {
     "data": {
      "text/html": [
       "\n",
       "        <iframe\n",
       "            width=\"1024\"\n",
       "            height=\"1024\"\n",
       "            src=\"./Calculos.pdf\"\n",
       "            frameborder=\"0\"\n",
       "            allowfullscreen\n",
       "            \n",
       "        ></iframe>\n",
       "        "
      ],
      "text/plain": [
       "<IPython.lib.display.IFrame at 0x27e75bdca90>"
      ]
     },
     "execution_count": 3,
     "metadata": {},
     "output_type": "execute_result"
    }
   ],
   "source": [
    "from IPython.display import IFrame\n",
    "IFrame(\"./Calculos.pdf\", width=1024, height=1024)"
   ]
  },
  {
   "cell_type": "code",
   "execution_count": null,
   "id": "e10d7db4",
   "metadata": {},
   "outputs": [],
   "source": []
  }
 ],
 "metadata": {
  "kernelspec": {
   "display_name": "Python 3 (ipykernel)",
   "language": "python",
   "name": "python3"
  },
  "language_info": {
   "codemirror_mode": {
    "name": "ipython",
    "version": 3
   },
   "file_extension": ".py",
   "mimetype": "text/x-python",
   "name": "python",
   "nbconvert_exporter": "python",
   "pygments_lexer": "ipython3",
   "version": "3.11.0"
  }
 },
 "nbformat": 4,
 "nbformat_minor": 5
}
