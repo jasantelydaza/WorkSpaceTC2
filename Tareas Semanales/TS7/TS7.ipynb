{
 "cells": [
  {
   "cell_type": "code",
   "execution_count": 1,
   "id": "b0b478df",
   "metadata": {},
   "outputs": [],
   "source": [
    "import sympy as sp\n",
    "from sympy.abc import s\n",
    "import numpy as np\n",
    "import math as m\n",
    "from pytc2.cuadripolos import calc_MAI_impedance_ij, calc_MAI_vtransf_ij_mn, calc_MAI_ztransf_ij_mn\n",
    "from pytc2.general import print_latex"
   ]
  },
  {
   "cell_type": "markdown",
   "id": "42f4ee76",
   "metadata": {},
   "source": [
    "# Trabajo semanal 7\n",
    "\n",
    "\n",
    "## Ejercicio 1:\n",
    "\n",
    "#### Para el siguiente cuadripolo se pide calcular los parámetros Z:\n",
    "![image](./Imagenes/Ejercicio1.png)\n",
    "\n",
    "\n",
    "No se puede resolver por interconexión de cuadripolos así que se resolvió por nodos.\n",
    "\n",
    "Parametros Z: \n",
    "$$\\begin{pmatrix} 3/10 & -3/10 \\\\ -3/10 & 3/10 \\end{pmatrix}$$\n",
    "\n",
    "### Cálculos:"
   ]
  },
  {
   "cell_type": "code",
   "execution_count": 27,
   "id": "b2d7734c",
   "metadata": {},
   "outputs": [
    {
     "data": {
      "text/html": [
       "\n",
       "        <iframe\n",
       "            width=\"1024\"\n",
       "            height=\"520\"\n",
       "            src=\"./Calculos.pdf\"\n",
       "            frameborder=\"0\"\n",
       "            allowfullscreen\n",
       "            \n",
       "        ></iframe>\n",
       "        "
      ],
      "text/plain": [
       "<IPython.lib.display.IFrame at 0x1c9e2cf04d0>"
      ]
     },
     "execution_count": 27,
     "metadata": {},
     "output_type": "execute_result"
    }
   ],
   "source": [
    "from IPython.display import IFrame\n",
    "IFrame(\"./Calculos.pdf\", width=1024, height=520)"
   ]
  },
  {
   "cell_type": "markdown",
   "id": "bdd987f0",
   "metadata": {},
   "source": [
    "### Simulación simbólica:\n"
   ]
  },
  {
   "cell_type": "code",
   "execution_count": 16,
   "id": "1d111ca0",
   "metadata": {},
   "outputs": [
    {
     "data": {
      "text/latex": [
       "$\\displaystyle 0.3 I_{1} - 0.3 I_{2}$"
      ],
      "text/plain": [
       "0.3*I1 - 0.3*I2"
      ]
     },
     "execution_count": 16,
     "metadata": {},
     "output_type": "execute_result"
    }
   ],
   "source": [
    "s = sp.symbols('s', complex=True)\n",
    "G1, G2, G3, a, I1, I2, V1, V2 = sp.symbols(\"G1, G2, G3, a, I1, I2, V1, V2\", real=True, positive=True)\n",
    "V1 = ( 1/(G1+G2+G2/a+G3+G2+G2) ) * ( I1 -  I2/a )\n",
    "\n",
    "V1 = sp.simplify( V1.subs([ (G1, 1), (G2, 1/2), (G3, 1/3), (a, 1) ]) )\n",
    "V1"
   ]
  },
  {
   "cell_type": "markdown",
   "id": "1af49cb4",
   "metadata": {},
   "source": [
    "Como podemos ver obtuvimos la misma ecuación que en papel y si hacemos $ V_2 = -V_1$ también coinciden"
   ]
  },
  {
   "cell_type": "markdown",
   "id": "e1211223",
   "metadata": {},
   "source": [
    "## Ejercicio 2 \n",
    "Dado el siguiente circuito:\n",
    "\n",
    "![image](./Imagenes/Ejercicio2.png)\n",
    "\n",
    "Obtener la transferencia de tensión fracción V subíndice o entre V subíndice i por método de cuadripolos (se sugiere referirse a alguno de los métodos de interconexión ya vistos). Ayuda: si C subíndice 2 igual fracción 4 entre 3 (se utilizó 1.333 para la simulación), los polos de la transferencia están ubicados sobre una circunferencia de radio unitario\n",
    "\n",
    "👉 Construya la matriz de admitancia indefinida (MAI) del circuito.\n",
    "\n",
    "👉 Compute la transferencia de tensión con la MAI.\n",
    "\n",
    "### Cálculo de la transferencia:\n",
    "\n",
    "$$ T(s)= \\dfrac{1}{s^3 + 2s^2 +2s +1  } $$ "
   ]
  },
  {
   "cell_type": "markdown",
   "id": "53c2c28d",
   "metadata": {},
   "source": [
    "### Cálculo de MAI"
   ]
  },
  {
   "cell_type": "code",
   "execution_count": 22,
   "id": "deb3962e",
   "metadata": {},
   "outputs": [
    {
     "name": "stdout",
     "output_type": "stream",
     "text": [
      "Impedancia de entrada:\n"
     ]
    },
    {
     "data": {
      "text/latex": [
       "$\\displaystyle  [Y_{MAI}] = \\left[\\begin{matrix}\\frac{1}{L_{1} s} & - \\frac{1}{L_{1} s} & 0 & 0\\\\- \\frac{1}{L_{1} s} & C_{2} s + \\frac{1}{L_{3} s} + \\frac{1}{L_{1} s} & \\frac{1}{L_{3} s} & - C_{2} s\\\\0 & - \\frac{1}{L_{3} s} & G + \\frac{1}{L_{3} s} & - G\\\\0 & - C_{2} s & - G & C_{2} s + G\\end{matrix}\\right]$"
      ],
      "text/plain": [
       "<IPython.core.display.Math object>"
      ]
     },
     "metadata": {},
     "output_type": "display_data"
    },
    {
     "data": {
      "text/latex": [
       "$\\displaystyle  [Y^{ 00 }_{ 33 } ] = \\left[\\begin{matrix}C_{2} s + \\frac{1}{L_{3} s} + \\frac{1}{L_{1} s} & \\frac{1}{L_{3} s}\\\\- \\frac{1}{L_{3} s} & G + \\frac{1}{L_{3} s}\\end{matrix}\\right]$"
      ],
      "text/plain": [
       "<IPython.core.display.Math object>"
      ]
     },
     "metadata": {},
     "output_type": "display_data"
    },
    {
     "data": {
      "text/latex": [
       "$\\displaystyle [Y^{ 0 }_{ 0 }] = \\left[\\begin{matrix}C_{2} s + \\frac{1}{L_{3} s} + \\frac{1}{L_{1} s} & \\frac{1}{L_{3} s} & - C_{2} s\\\\- \\frac{1}{L_{3} s} & G + \\frac{1}{L_{3} s} & - G\\\\- C_{2} s & - G & C_{2} s + G\\end{matrix}\\right]$"
      ],
      "text/plain": [
       "<IPython.core.display.Math object>"
      ]
     },
     "metadata": {},
     "output_type": "display_data"
    },
    {
     "data": {
      "text/latex": [
       "$\\displaystyle Z_{ 03 } = \\frac{ \\underline{Y}^{ 00 }_{ 33 } }{ \\underline{Y}^{ 0 }_{ 0 } } = \\frac{C_{2} G L_{1} L_{3}^{2} s^{3} + C_{2} L_{1} L_{3} s^{2} + G L_{1} L_{3} s + G L_{3}^{2} s + 2 L_{1} + L_{3}}{2 C_{2} G L_{1} L_{3} s^{2} + C_{2} G L_{3}^{2} s^{2} + 2 C_{2} L_{1} s + C_{2} L_{3} s + 2 G L_{1} + G L_{3}}$"
      ],
      "text/plain": [
       "<IPython.core.display.Math object>"
      ]
     },
     "metadata": {},
     "output_type": "display_data"
    },
    {
     "name": "stdout",
     "output_type": "stream",
     "text": [
      "Transferencia de tensión:\n"
     ]
    },
    {
     "data": {
      "text/latex": [
       "$\\displaystyle  [Y_{MAI}] = \\left[\\begin{matrix}\\frac{1}{L_{1} s} & - \\frac{1}{L_{1} s} & 0 & 0\\\\- \\frac{1}{L_{1} s} & C_{2} s + \\frac{1}{L_{3} s} + \\frac{1}{L_{1} s} & \\frac{1}{L_{3} s} & - C_{2} s\\\\0 & - \\frac{1}{L_{3} s} & G + \\frac{1}{L_{3} s} & - G\\\\0 & - C_{2} s & - G & C_{2} s + G\\end{matrix}\\right]$"
      ],
      "text/plain": [
       "<IPython.core.display.Math object>"
      ]
     },
     "metadata": {},
     "output_type": "display_data"
    },
    {
     "data": {
      "text/latex": [
       "$\\displaystyle  [Y^{ 03 }_{ 23 } ] = \\left[\\begin{matrix}- \\frac{1}{L_{1} s} & 0\\\\C_{2} s + \\frac{1}{L_{3} s} + \\frac{1}{L_{1} s} & \\frac{1}{L_{3} s}\\end{matrix}\\right]$"
      ],
      "text/plain": [
       "<IPython.core.display.Math object>"
      ]
     },
     "metadata": {},
     "output_type": "display_data"
    },
    {
     "data": {
      "text/latex": [
       "$\\displaystyle [Y^{ 03 }_{ 03 } ] = \\left[\\begin{matrix}C_{2} s + \\frac{1}{L_{3} s} + \\frac{1}{L_{1} s} & \\frac{1}{L_{3} s}\\\\- \\frac{1}{L_{3} s} & G + \\frac{1}{L_{3} s}\\end{matrix}\\right]$"
      ],
      "text/plain": [
       "<IPython.core.display.Math object>"
      ]
     },
     "metadata": {},
     "output_type": "display_data"
    },
    {
     "data": {
      "text/latex": [
       "$\\displaystyle T^{ 23 }_{ 03 } = \\frac{ \\underline{Y}^{ 03 }_{ 23 } }{ \\underline{Y}^{ 03 }_{ 03 } } =  -1^{ 8 } \\frac{{ - \\frac{1}{L_{1} L_{3} s^{2}}}}{{C_{2} G s + \\frac{C_{2}}{L_{3}} + \\frac{G}{L_{3} s} + \\frac{G}{L_{1} s} + \\frac{2}{L_{3}^{2} s^{2}} + \\frac{1}{L_{1} L_{3} s^{2}}}} = \\frac{L_{3}}{C_{2} G L_{1} L_{3}^{2} s^{3} + C_{2} L_{1} L_{3} s^{2} + G L_{1} L_{3} s + G L_{3}^{2} s + 2 L_{1} + L_{3}}$"
      ],
      "text/plain": [
       "<IPython.core.display.Math object>"
      ]
     },
     "metadata": {},
     "output_type": "display_data"
    }
   ],
   "source": [
    "s = sp.symbols('s', complex=True)\n",
    "L1, C2, L3, G = sp.symbols(\"L1, C2, L3, G\", real=True, positive=True)\n",
    "\n",
    "\n",
    "# MAI\n",
    "Ymai = sp.Matrix([  \n",
    "                    [ 1/(s*L1),   -1/(s*L1),                     0,               -0     ],\n",
    "                    [ -1/(s*L1),   1/(s*L1) + 1/(s*L3) + s*C2,   1/(s*L3),        -s*C2  ],\n",
    "                    [ 0,          -1/(s*L3),                     1/(s*L3)+G,      -G     ],\n",
    "                    [ 0,          -s*C2,                         -G,              s*C2+G ]\n",
    "                 ])\n",
    "\n",
    "con_detalles = True\n",
    "\n",
    "# Impedancia de entrada\n",
    "print('Impedancia de entrada:')\n",
    "Zin = calc_MAI_impedance_ij(Ymai, 0, 3, verbose=con_detalles)\n",
    "\n",
    "# Transferencia de tension\n",
    "print('Transferencia de tensión:')\n",
    "Vmai = calc_MAI_vtransf_ij_mn(Ymai, 2, 3, 0, 3, verbose=con_detalles)"
   ]
  },
  {
   "cell_type": "markdown",
   "id": "99c28584",
   "metadata": {},
   "source": [
    "### Compute la transferencia de tensión con la MAI"
   ]
  },
  {
   "cell_type": "code",
   "execution_count": 21,
   "id": "53a9ab3e",
   "metadata": {},
   "outputs": [
    {
     "name": "stdout",
     "output_type": "stream",
     "text": [
      "Transferencia de tensión\n"
     ]
    },
    {
     "data": {
      "text/latex": [
       "$\\displaystyle \\frac{0.5}{0.5 s^{3} + 1.0 s^{2} + 1.0 s + 3.5}$"
      ],
      "text/plain": [
       "0.5/(0.5*s**3 + 1.0*s**2 + 1.0*s + 3.5)"
      ]
     },
     "execution_count": 21,
     "metadata": {},
     "output_type": "execute_result"
    }
   ],
   "source": [
    "print('Transferencia de tensión')\n",
    "Vmai_num = sp.simplify( Vmai.subs([ (L1, 3/2), (C2, 4/3), (L3, 1/2), (G, 1) ]) ) \n",
    "Vmai_num"
   ]
  },
  {
   "cell_type": "markdown",
   "id": "6984cbb9",
   "metadata": {},
   "source": [
    "### Compute la impedancia de entrada con la MAI\n"
   ]
  },
  {
   "cell_type": "code",
   "execution_count": 23,
   "id": "d6d42902",
   "metadata": {},
   "outputs": [
    {
     "name": "stdout",
     "output_type": "stream",
     "text": [
      "Impedancia de entrada\n"
     ]
    },
    {
     "data": {
      "text/latex": [
       "$\\displaystyle \\frac{0.5 s^{3} + 1.0 s^{2} + 1.0 s + 3.5}{2.33333333333333 s^{2} + 4.66666666666667 s + 3.5}$"
      ],
      "text/plain": [
       "(0.5*s**3 + 1.0*s**2 + 1.0*s + 3.5)/(2.33333333333333*s**2 + 4.66666666666667*s + 3.5)"
      ]
     },
     "execution_count": 23,
     "metadata": {},
     "output_type": "execute_result"
    }
   ],
   "source": [
    "print('Impedancia de entrada')\n",
    "Zin_num = sp.simplify( Zin.subs([ (L1, 1.5), (C2, 4/3), (L3, 0.5), (G, 1) ]) )\n",
    "Zin_num"
   ]
  },
  {
   "cell_type": "markdown",
   "id": "31776f2f",
   "metadata": {},
   "source": [
    "### Simulación Circuital:\n",
    "\n",
    "Simulamos el circuito obtenido:\n",
    "\n",
    "![image](./Imagenes/Circuito.png)\n",
    "\n",
    "Se obtuvo de la simulación:\n",
    "\n",
    "![image](./Imagenes/Simulación.png)\n",
    "\n",
    "Podemos ver que obtuvimos el pasabajos que cálculamos la principio"
   ]
  },
  {
   "cell_type": "code",
   "execution_count": null,
   "id": "55bd43f4",
   "metadata": {},
   "outputs": [],
   "source": []
  }
 ],
 "metadata": {
  "kernelspec": {
   "display_name": "Python 3 (ipykernel)",
   "language": "python",
   "name": "python3"
  },
  "language_info": {
   "codemirror_mode": {
    "name": "ipython",
    "version": 3
   },
   "file_extension": ".py",
   "mimetype": "text/x-python",
   "name": "python",
   "nbconvert_exporter": "python",
   "pygments_lexer": "ipython3",
   "version": "3.11.0"
  }
 },
 "nbformat": 4,
 "nbformat_minor": 5
}
