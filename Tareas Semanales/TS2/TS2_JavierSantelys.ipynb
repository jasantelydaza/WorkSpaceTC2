{
 "cells": [
  {
   "cell_type": "markdown",
   "id": "2d7105c2",
   "metadata": {},
   "source": [
    "# TS2\n",
    "## Consigna\n",
    "![Imagen](./Assets/Circuito_Ackerberg_TS2.png)\n",
    "### Consignas de la actividad:\n",
    "\n",
    "-Hallar la transferencia T=Vo/Vi en función de ωo y Q\n",
    "\n",
    "-Obtener el valor de los componentes del circuito de forma tal que ωo=1 y Q=3\n",
    "\n",
    "-Ajustar el valor de R1 de forma tal que |T(0)|=20dB\n",
    "\n",
    "#### Bonus:\n",
    "\n",
    "-Obtener los valores de la red normalizados en frecuencia e impedancia.\n",
    "\n",
    "-Calcular las sensibilidades  SωoC, SQR2 y SQR3\n",
    "\n",
    "-Recalcular los valores de la red para que cumpla con una transferencia Butterworth.\n",
    "\n",
    "-Cómo podría obtener un circuito pasabanda con los mismos componentes originales y con qué parámetros quedaría diseñado\n",
    "\n",
    "-Simulación circuital de todos los experimentos.\n",
    "\n",
    "-Presentación en jupyter notebook\n",
    "\n",
    "## Resolución:\n",
    "\n",
    "### Transferencia:\n",
    "\n",
    "$ T(s)= -\\frac{R_3}{R_1}.\\frac{\\frac{1}{(R_3 . C)^2}}{s^2 + s.\\frac{1}{R_2 . C} + \\frac{1}{(R_3 . C)^2}} $\n",
    "\n",
    "La resolución de este calculo y los otros están al final en el pdf\n",
    "\n",
    "## Simulaciones:\n",
    "\n",
    "### Circuito sin normalizar: \n",
    "\n",
    "![Imagen](./Assets/circuito_TS2_sin_normalizar.png)\n",
    "\n",
    "### Simulación:\n",
    "\n",
    "![Imagen](./Assets/simulacion_TS2_sin_normalizar.png)\n",
    "\n",
    "### Circuito normalizado:\n",
    "\n",
    "![Imagen](./Assets/circuito_TS2_normalizado.png)\n",
    "\n",
    "### Simulación:\n",
    "\n",
    "![Imagen](./Assets/simulacion_TS2_normalizado.png)\n",
    "\n",
    "Podemos ver que en ambos casos el circuito se comportan completamente igual. Y que $ \\omega_0 $ en las simulaciones está dividida por $ 2\\pi $ por eso está alrededor de 157\n"
   ]
  },
  {
   "cell_type": "markdown",
   "id": "7a9c10dd",
   "metadata": {},
   "source": [
    "### Calculos y Resolución:"
   ]
  },
  {
   "cell_type": "code",
   "execution_count": 4,
   "id": "690b15bb",
   "metadata": {
    "scrolled": true
   },
   "outputs": [
    {
     "data": {
      "text/html": [
       "\n",
       "        <iframe\n",
       "            width=\"1000\"\n",
       "            height=\"1000\"\n",
       "            src=\"./Assets/TS2-TC2.pdf\"\n",
       "            frameborder=\"0\"\n",
       "            allowfullscreen\n",
       "            \n",
       "        ></iframe>\n",
       "        "
      ],
      "text/plain": [
       "<IPython.lib.display.IFrame at 0x1f68a4b19d0>"
      ]
     },
     "execution_count": 4,
     "metadata": {},
     "output_type": "execute_result"
    }
   ],
   "source": [
    "from IPython.display import IFrame\n",
    "IFrame('./Assets/TS2-TC2.pdf', width=1000, height=1000)"
   ]
  }
 ],
 "metadata": {
  "kernelspec": {
   "display_name": "Python 3 (ipykernel)",
   "language": "python",
   "name": "python3"
  },
  "language_info": {
   "codemirror_mode": {
    "name": "ipython",
    "version": 3
   },
   "file_extension": ".py",
   "mimetype": "text/x-python",
   "name": "python",
   "nbconvert_exporter": "python",
   "pygments_lexer": "ipython3",
   "version": "3.11.0"
  }
 },
 "nbformat": 4,
 "nbformat_minor": 5
}
